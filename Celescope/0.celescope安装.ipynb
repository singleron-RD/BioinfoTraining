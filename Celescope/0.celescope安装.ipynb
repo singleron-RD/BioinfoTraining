{
 "cells": [
  {
   "cell_type": "markdown",
   "metadata": {},
   "source": [
    "# Hardware/Software Requirements\n",
    "\n",
    "- minimum 32GB RAM(to run STAR aligner)\n",
    "- conda\n",
    "- git\n",
    "\n",
    "# Installation\n",
    "\n",
    "1. Clone repo\n",
    "```\n",
    "git clone https://github.com/singleron-RD/CeleScope.git\n",
    "```\n",
    "\n",
    "2. Create conda environment and install conda packages. It is recommended to use [mamba](https://github.com/mamba-org/mamba) (which is a faster replacement for Conda)\n",
    "```\n",
    "cd CeleScope\n",
    "conda install mamba\n",
    "mamba create -n celescope -y --file conda_pkgs.txt\n",
    "```\n",
    "\n",

    "3. Install celescope\n",
    "\n",
    "Make sure you have activated the `celescope` conda environment before running `pip install celescope`. \n",
    "```\n",
    "conda activate celescope\n",
    "pip install celescope\n",
    "```\n",
    "\n",
    "\n",
    "# reference\n",
    "https://github.com/singleron-RD/CeleScope/blob/master/docs/installation.md#installation"
   ]
  }
 ],
 "metadata": {
  "kernelspec": {
   "display_name": "Python 3.10.6 64-bit",
   "language": "python",
   "name": "python3"
  },
  "language_info": {
   "name": "python",
   "version": "3.10.6"
  },
  "orig_nbformat": 4,
  "vscode": {
   "interpreter": {
    "hash": "beedbe2faf2f7048d727558d0bc3221e7eba2a0b921cac4d4771b2feb8f74b30"
   }
  }
 },
 "nbformat": 4,
 "nbformat_minor": 2
}
