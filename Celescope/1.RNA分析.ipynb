{
 "cells": [
  {
   "cell_type": "markdown",
   "metadata": {},
   "source": [
    "# RNA分析\n",
    "- mkref：构建参考基因组\n",
    "- sample：生成样本信息\n",
    "- barcode：解复用barcode，主要过滤fastq文件中不包含barcode的reads和低质量的reads\n",
    "- cutadapt：对reads进行trimming\n",
    "- star：与参考基因组进行比对\n",
    "- featureCount：转录组定量分析\n",
    "- count：区分barcode是否为背景，生成表达矩阵\n",
    "- analysis：降维，聚类的可视化，差异基因表"
   ]
  },
  {
   "cell_type": "markdown",
   "metadata": {},
   "source": [
    "1.构建参考基因组\n",
    "\n",
    "mkdir hs_ensembl_99\n",
    "\n",
    "cd hs_ensembl_99\n",
    "\n",
    "wget ftp://ftp.ensembl.org/pub/release-99/fasta/homo_sapiens/dna/Homo_sapiens.GRCh38.dna.primary_assembly.fa.gz\n",
    "\n",
    "wget ftp://ftp.ensembl.org/pub/release-99/gtf/homo_sapiens/Homo_sapiens.GRCh38.99.gtf.gz\n",
    "\n",
    "gunzip Homo_sapiens.GRCh38.dna.primary_assembly.fa.gz\n",
    "\n",
    "gunzip Homo_sapiens.GRCh38.99.gtf.gz\n",
    "\n",
    "conda activate celescope\n",
    "\n",
    "celescope rna mkref \\\n",
    "\n",
    " --genome_name Homo_sapiens_ensembl_99 \\\n",
    "\n",
    " --fasta Homo_sapiens.GRCh38.dna.primary_assembly.fa \\\n",
    "\n",
    " --gtf Homo_sapiens.GRCh38.99.gtf\n",
    "\n",
    "2.创建mapfile文件，multi_rna命令生成shell文件\n",
    "```\n",
    "multi_rna\\\n",
    "  --mapfile rna.mapfile\\\n",
    "  --genomeDir /SGRNJ/Public/Database/genome/homo_mus\\\n",
    "  --thread 8\\\n",
    "  --mod shell\n",
    "```\n",
    "- cat rna.mapfile\\\n",
    "rna1&emsp;../../celescope_test_data/rna1/fastqs&emsp;test1\n",
    "\n",
    "3.运行生成的shell文件\n",
    "\n",
    "sh shell/test1.sh\n",
    "```\n",
    "celescope rna sample --outdir .//test1/00.sample --sample test1 --thread 4 --chemistry auto  --fq1 ../../celescope_test_data/rna/fastqs/rna_1.fq.gz\n",
    "\n",
    "celescope rna barcode --outdir .//test1/01.barcode --sample test1 --thread 4 --chemistry auto --lowNum 2  --fq1 ../../celescope_test_data/rna/fastqs/rna_1.fq.gz --fq2 ../../celescope_test_data/rna/fastqs/rna_2.fq.gz\n",
    "celescope rna cutadapt --outdir .//test1/02.cutadapt --sample test1 --thread 4 --minimum_length 20 --nextseq_trim 20 --overlap 10 --insert 150  --fq .//test1/01.barcode/test1_2.fq\n",
    "\n",
    "celescope rna star --outdir .//test1/03.star --sample test1 --thread 4 --genomeDir /SGRNJ03/randd/public/genome/rna/hs_ensembl_99 --outFilterMultimapNmax 1 --starMem 30  --fq .//test1/02.cutadapt/test1_clean_2.fq\n",
    "\n",
    "celescope rna featureCounts --outdir .//test1/04.featureCounts --sample test1 --thread 4 --gtf_type exon --genomeDir /SGRNJ03/randd/public/genome/rna/hs_ensembl_99  --input .//test1/03.star/test1_Aligned.sortedByCoord.out.bam\n",
    "\n",
    "celescope rna count --outdir .//test1/05.count --sample test1 --thread 4 --genomeDir /SGRNJ03/randd/public/genome/rna/hs_ensembl_99 --expected_cell_num 3000 --cell_calling_method auto  --bam .//test1/04.featureCounts/test1_name_sorted.bam --force_cell_num None\n",
    "\n",
    "celescope rna analysis --outdir .//test1/06.analysis --sample test1 --thread 4 --genomeDir /SGRNJ03/randd/public/genome/rna/hs_ensembl_99  --matrix_file .//test1/05.count/test1_filtered_feature_bc_matrix\n",
    "\n",
    "```\n",
    "\n",
    "# reference\n",
    "- test_script:\n",
    "\n",
    "https://github.com/singleron-RD/celescope_test_script\n",
    "\n",
    "- test_data:\n",
    "\n",
    "https://github.com/singleron-RD/celescope_test_data\n",
    "\n",
    "\n"
   ]
  }
 ],
 "metadata": {
  "kernelspec": {
   "display_name": "Python 3.10.6 64-bit",
   "language": "python",
   "name": "python3"
  },
  "language_info": {
   "name": "python",
   "version": "3.10.6"
  },
  "orig_nbformat": 4,
  "vscode": {
   "interpreter": {
    "hash": "beedbe2faf2f7048d727558d0bc3221e7eba2a0b921cac4d4771b2feb8f74b30"
   }
  }
 },
 "nbformat": 4,
 "nbformat_minor": 2
}
