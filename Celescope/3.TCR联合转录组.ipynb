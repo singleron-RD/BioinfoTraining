{
 "cells": [
  {
   "cell_type": "markdown",
   "metadata": {},
   "source": [
    "library(Seurat)\n",
    "\n",
    "library(tidyverse)\n",
    "\n",
    "library(argparse)\n",
    "\n",
    "library(ggplot2)\n",
    "\n",
    "library(stringr)\n",
    "\n",
    "library(dplyr)"
   ]
  },
  {
   "cell_type": "markdown",
   "metadata": {},
   "source": [
    "parser <- ArgumentParser()\n",
    "\n",
    "parser$add_argument(\"--sample\",help=\"sample name\", required=TRUE)\n",
    "\n",
    "parser$add_argument(\"--rds\", help=\"scRNA rds path\", required=TRUE)\n",
    "\n",
    "parser$add_argument(\"--VDJ\", help='VDJ match_contigs.csv path', required=TRUE)\n",
    "\n",
    "parser$add_argument(\"--outdir\", help='out dir', required=TRUE)\n",
    "\n",
    "args <- parser$parse_args()\n",
    "\n",
    "rds <- readRDS(args$rds)\n",
    "\n",
    "Idents(rds) <- \"orig.ident\"\n",
    "\n",
    "rna <- subset(rds,idents = c(args$sample))\n",
    "\n",
    "vdj <- read.table(args$VDJ, sep=',', header=T)\n",
    "\n",
    "df <- rna@meta.data\n",
    "\n",
    "df$barcode <- rownames(df)\n",
    "\n",
    "cells <- vdj\n",
    "\n",
    "barcodes <- unique(cells$barcode)\n",
    "\n",
    "filter_df <- filter(df, barcode %in% barcodes)\n",
    "\n",
    "res <- table(filter_df$seurat_clusters)\n",
    "\n",
    "res <- as.data.frame(res)\n",
    "\n",
    "# 统计每个cluster中组装出的细胞数\n",
    "out_csv = stringr::str_glue('{args$outdir}/match_barcodes_celltypes_distribution.txt')\n",
    "\n",
    "[out_csv](./match_barcodes_celltypes_distribution.txt) "
   ]
  },
  {
   "cell_type": "markdown",
   "metadata": {},
   "source": [
    "\n",
    "meta = rna@meta.data\n",
    "\n",
    "meta$Class = 'NA'\n",
    "\n",
    "meta[barcodes,'Class'] = 'T/BCR'\n",
    "\n",
    "meta <- meta %>% drop_na(nCount_RNA)\n",
    "\n",
    "table(meta$Class == 'T/BCR')\n",
    "\n",
    "rna@meta.data = meta\n",
    "\n",
    "rna <- RunUMAP(rna, dims = 1:20)\n"
   ]
  },
  {
   "cell_type": "markdown",
   "metadata": {},
   "source": [
    "\n",
    "outP = stringr::str_glue('{args$outdir}/cluster_umap.png')\n",
    "\n",
    "png(outP, height=1000, width=1000)\n",
    "\n",
    "UMAPPlot(rna,group.by='seurat_clusters',label=TRUE)\n",
    "\n",
    "dev.off()\n",
    "\n",
    "# UMAP-plot of cluster\n",
    "![Alt text](./cluster_umap.png \"optional title\")\n"
   ]
  },
  {
   "cell_type": "markdown",
   "metadata": {},
   "source": [
    "\n",
    "outP2 = stringr::str_glue(\"{args$outdir}/assign.png\")\n",
    "\n",
    "png(outP2, height=1000, width=1000)\n",
    "\n",
    "UMAPPlot(rna,group.by='celltype',label=TRUE,label.box=TRUE)\n",
    "\n",
    "dev.off()\n",
    "# UMAP-plot of celltype\n",
    "![Alt text](./assign.png \"optional title\")"
   ]
  },
  {
   "cell_type": "markdown",
   "metadata": {},
   "source": [
    "\n",
    "outP1 = stringr::str_glue(\"{args$outdir}/umapplot.png\")\n",
    "\n",
    "png(outP1, height=1000, width=1000)\n",
    "\n",
    "UMAPPlot(rna,group.by='Class',cols=c('grey','red'),label=TRUE)\n",
    "\n",
    "dev.off()\n",
    "\n",
    "# UMAP-plot of TCR\n",
    "![Alt text](./umapplot.png \"optional title\")\n"
   ]
  },
  {
   "cell_type": "markdown",
   "metadata": {},
   "source": [
    "# reference\n",
    "\n",
    "https://github.com/Chenjunjie1996/Self-Used-Scripts/tree/main/mappingclass"
   ]
  }
 ],
 "metadata": {
  "kernelspec": {
   "display_name": "Python 3.10.6 64-bit",
   "language": "python",
   "name": "python3"
  },
  "language_info": {
   "name": "python",
   "version": "3.10.6"
  },
  "orig_nbformat": 4,
  "vscode": {
   "interpreter": {
    "hash": "beedbe2faf2f7048d727558d0bc3221e7eba2a0b921cac4d4771b2feb8f74b30"
   }
  }
 },
 "nbformat": 4,
 "nbformat_minor": 2
}
